{
  "nbformat": 4,
  "nbformat_minor": 0,
  "metadata": {
    "colab": {
      "name": "chatbot.ipynb",
      "provenance": [],
      "collapsed_sections": [],
      "authorship_tag": "ABX9TyP/KnsLVSC6SbDX2raWDXI9",
      "include_colab_link": true
    },
    "kernelspec": {
      "name": "python3",
      "display_name": "Python 3"
    }
  },
  "cells": [
    {
      "cell_type": "markdown",
      "metadata": {
        "id": "view-in-github",
        "colab_type": "text"
      },
      "source": [
        "<a href=\"https://colab.research.google.com/github/Abhilasha-N/chatbot/blob/master/chatbot.ipynb\" target=\"_parent\"><img src=\"https://colab.research.google.com/assets/colab-badge.svg\" alt=\"Open In Colab\"/></a>"
      ]
    },
    {
      "cell_type": "code",
      "metadata": {
        "id": "wfGI8TQQDPn3",
        "outputId": "ecb92e32-339c-400f-9b1c-ce39a7f7e3dc",
        "colab": {
          "base_uri": "https://localhost:8080/",
          "height": 346
        }
      },
      "source": [
        "#Prepare the Dependencies\n",
        "!pip install chatterbot\n",
        "!pip install chatterbot_corpus"
      ],
      "execution_count": null,
      "outputs": [
        {
          "output_type": "stream",
          "text": [
            "Collecting chatterbot\n",
            "\u001b[?25l  Downloading https://files.pythonhosted.org/packages/7c/21/85c2b114bd9dfabdd46ba58fc4519acdaed45d8c70898d40079e37a45e67/ChatterBot-1.0.8-py2.py3-none-any.whl (63kB)\n",
            "\r\u001b[K     |█████▏                          | 10kB 11.6MB/s eta 0:00:01\r\u001b[K     |██████████▎                     | 20kB 1.8MB/s eta 0:00:01\r\u001b[K     |███████████████▌                | 30kB 2.3MB/s eta 0:00:01\r\u001b[K     |████████████████████▋           | 40kB 2.6MB/s eta 0:00:01\r\u001b[K     |█████████████████████████▊      | 51kB 2.0MB/s eta 0:00:01\r\u001b[K     |███████████████████████████████ | 61kB 2.3MB/s eta 0:00:01\r\u001b[K     |████████████████████████████████| 71kB 2.1MB/s \n",
            "\u001b[?25hCollecting mathparse<0.2,>=0.1\n",
            "  Downloading https://files.pythonhosted.org/packages/c3/e5/4910fb85950cb960fcf3f5aabe1c8e55f5c9201788a1c1302b570a7e1f84/mathparse-0.1.2-py3-none-any.whl\n",
            "Requirement already satisfied: python-dateutil<2.9,>=2.8 in /usr/local/lib/python3.6/dist-packages (from chatterbot) (2.8.1)\n",
            "Requirement already satisfied: pytz in /usr/local/lib/python3.6/dist-packages (from chatterbot) (2018.9)\n",
            "Requirement already satisfied: sqlalchemy<1.4,>=1.3 in /usr/local/lib/python3.6/dist-packages (from chatterbot) (1.3.19)\n",
            "Requirement already satisfied: six>=1.5 in /usr/local/lib/python3.6/dist-packages (from python-dateutil<2.9,>=2.8->chatterbot) (1.15.0)\n",
            "Installing collected packages: mathparse, chatterbot\n",
            "Successfully installed chatterbot-1.0.8 mathparse-0.1.2\n",
            "Collecting chatterbot_corpus\n",
            "\u001b[?25l  Downloading https://files.pythonhosted.org/packages/ed/19/f8b41daf36fe4b0f43e283a820362ffdb2c1128600ab4ee187e84262fa4d/chatterbot_corpus-1.2.0-py2.py3-none-any.whl (117kB)\n",
            "\u001b[K     |████████████████████████████████| 122kB 2.8MB/s \n",
            "\u001b[?25hRequirement already satisfied: PyYAML<4.0,>=3.12 in /usr/local/lib/python3.6/dist-packages (from chatterbot_corpus) (3.13)\n",
            "Installing collected packages: chatterbot-corpus\n",
            "Successfully installed chatterbot-corpus-1.2.0\n"
          ],
          "name": "stdout"
        }
      ]
    },
    {
      "cell_type": "code",
      "metadata": {
        "id": "PizwpFMAEjUY"
      },
      "source": [
        "#Import Classes\n",
        "from chatterbot import ChatBot\n",
        "from chatterbot.trainers import ListTrainer"
      ],
      "execution_count": null,
      "outputs": []
    },
    {
      "cell_type": "code",
      "metadata": {
        "id": "Syo8sqW1ObrK"
      },
      "source": [
        "# Create object of ChatBot class\n",
        "bot = ChatBot('Buddy')"
      ],
      "execution_count": 19,
      "outputs": []
    },
    {
      "cell_type": "code",
      "metadata": {
        "id": "czIWv-1WOl1a"
      },
      "source": [
        "# Create object of ChatBot class with Storage Adapter\n",
        "bot = ChatBot(\n",
        "    'Buddy',\n",
        "    storage_adapter='chatterbot.storage.SQLStorageAdapter',\n",
        "    database_uri='sqlite:///database.sqlite3'\n",
        ")"
      ],
      "execution_count": 20,
      "outputs": []
    },
    {
      "cell_type": "code",
      "metadata": {
        "id": "IYUzotbUOpJn"
      },
      "source": [
        "# Create object of ChatBot class with Logic Adapter\n",
        "bot = ChatBot(\n",
        "    'Buddy',  \n",
        "    logic_adapters=[\n",
        "        'chatterbot.logic.BestMatch',\n",
        "        'chatterbot.logic.SpecificResponseAdapter'],\n",
        ")"
      ],
      "execution_count": 40,
      "outputs": []
    },
    {
      "cell_type": "code",
      "metadata": {
        "id": "cnmfNxI-OuGZ",
        "outputId": "2077c78a-6b5a-4488-bd32-5055792d4724",
        "colab": {
          "base_uri": "https://localhost:8080/",
          "height": 35
        }
      },
      "source": [
        "# Inport ListTrainer\n",
        "from chatterbot.trainers import ListTrainer\n",
        "\n",
        "trainer = ListTrainer(bot)\n",
        "\n",
        "trainer.train([\n",
        "'Hi',\n",
        "'Hello',\n",
        "'I need your assistance regarding my order',\n",
        "'Please, Provide me with your order id',\n",
        "'I have a complaint.',\n",
        "'Please elaborate, your concern',\n",
        "'How long it will take to receive an order ?',\n",
        "'An order takes 3-5 Business days to get delivered.',\n",
        "'Okay Thanks',\n",
        "'No Problem! Have a Good Day!'\n",
        "])"
      ],
      "execution_count": 41,
      "outputs": [
        {
          "output_type": "stream",
          "text": [
            "List Trainer: [####################] 100%\n"
          ],
          "name": "stdout"
        }
      ]
    },
    {
      "cell_type": "code",
      "metadata": {
        "id": "7SASKl5uOxGV",
        "outputId": "5279addf-6a64-4c09-c363-273e1312d283",
        "colab": {
          "base_uri": "https://localhost:8080/",
          "height": 35
        }
      },
      "source": [
        "# Get a response to the input text 'I would like to book a flight.'\n",
        "response = bot.get_response('I have a complaint.')\n",
        "\n",
        "print(\"Bot Response:\", response)"
      ],
      "execution_count": 42,
      "outputs": [
        {
          "output_type": "stream",
          "text": [
            "Bot Response: Please elaborate, your concern\n"
          ],
          "name": "stdout"
        }
      ]
    },
    {
      "cell_type": "code",
      "metadata": {
        "id": "LyQ0VJcLO1Cw",
        "outputId": "176f6374-717a-4565-a458-7910d0948c10",
        "colab": {
          "base_uri": "https://localhost:8080/",
          "height": 599
        }
      },
      "source": [
        "name=input(\"Enter Your Name: \")\n",
        "print(\"Welcome to the Bot Service! Let me know how can I help you?\")\n",
        "while True:\n",
        "    request=input(name+':')\n",
        "    if request=='Bye' or request =='bye':\n",
        "        print('Bot: Bye')\n",
        "        break\n",
        "    else:\n",
        "        response=bot.get_response(request)\n",
        "        print('Bot:',response)"
      ],
      "execution_count": 43,
      "outputs": [
        {
          "output_type": "stream",
          "text": [
            "Enter Your Name: loka\n",
            "Welcome to the Bot Service! Let me know how can I help you?\n",
            "loka:hi\n",
            "Bot: How are you doing?\n",
            "loka:good\n",
            "Bot: I'm sorry, I can't hear you over the sound of how awesome I am.\n",
            "loka:thats great\n",
            "Bot: I agree.\n",
            "loka:nice\n",
            "Bot: I try to be as nice as I can.\n",
            "loka:tell mi about yourself\n",
            "Bot: It's a bit ambigous but British scientist Charles Babbage is regarded as the father of computers.\n",
            "loka:yaa\n",
            "Bot: what is h2o\n",
            "loka:water formula\n",
            "Bot: Unless explicitly silenced.\n",
            "loka:what\n",
            "Bot: I'm doing well. How are you?\n",
            "loka:good\n",
            "Bot: who are the illuminati\n",
            "loka:secrete society\n",
            "Bot: WHAT IS BASKETBALL\n",
            "loka:sport\n",
            "Bot: I'm not incredibly fond of Java.\n",
            "loka:then\n",
            "Bot: A man in a mask.\n",
            "loka:corona\n",
            "Bot: nasa recently sent a number of holsteins into orbit for experimental purposes. they called it the herd shot round the world.\n",
            "loka:nice talking you\n",
            "Bot: yes, i could use a better appearance.\n",
            "loka:bye\n",
            "Bot: Bye\n"
          ],
          "name": "stdout"
        }
      ]
    }
  ]
}